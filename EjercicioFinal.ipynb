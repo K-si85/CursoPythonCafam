{
  "cells": [
    {
      "cell_type": "code",
      "execution_count": null,
      "metadata": {
        "colab": {
          "background_save": true,
          "base_uri": "https://localhost:8080/"
        },
        "id": "uc-40AjnvB2H",
        "outputId": "de00995b-a478-4ba3-a829-8dfe63715ff3"
      },
      "outputs": [
        {
          "name": "stdout",
          "output_type": "stream",
          "text": [
            "{'ma': '2'}\n",
            "Ingresa otro producto y cantidad\n",
            "{'ma': '2'}\n",
            "Ingresa otro producto y cantidad\n",
            "{'ma': '2'}\n"
          ]
        }
      ],
      "source": [
        "INVENTARIO = {}\n",
        "NOMBRE_PRODUCTO = input(\"Ingrese PRODUCTO: \")\n",
        "CANTIDADES = input(\"Ingrese CANTIDAD del PRODUCTO: \")\n",
        "finalizar = \"si\"\n",
        "pregunta = None\n",
        "##for INVENTARIO in  INVENTARIOS:\n",
        "##   nuevo_inventario = NOMBRE_PRODUCTO + ' , ' +CANTIDADES\n",
        "##   INVENTARIOS.APPEND(nuevo_inventario)\n",
        "##print (INVENTARIOS)\n",
        "while pregunta != finalizar:\n",
        "      INVENTARIO [NOMBRE_PRODUCTO] = CANTIDADES\n",
        "      print (INVENTARIO)\n",
        "      pregunta = input(\"Desea finalizar proceso? (si o no): \")\n",
        "      if pregunta == finalizar:\n",
        "        print(\"Proceso terminado\")\n",
        "        break\n",
        "      else:\n",
        "        print(\"Ingresa otro producto y cantidad\")\n",
        "\n",
        "def agregar"
      ]
    }
  ],
  "metadata": {
    "colab": {
      "provenance": []
    },
    "kernelspec": {
      "display_name": "Python 3",
      "name": "python3"
    },
    "language_info": {
      "name": "python"
    }
  },
  "nbformat": 4,
  "nbformat_minor": 0
}