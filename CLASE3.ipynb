{
  "nbformat": 4,
  "nbformat_minor": 0,
  "metadata": {
    "colab": {
      "provenance": []
    },
    "kernelspec": {
      "name": "python3",
      "display_name": "Python 3"
    },
    "language_info": {
      "name": "python"
    }
  },
  "cells": [
    {
      "cell_type": "markdown",
      "source": [
        "Contenido\n",
        "\n",
        "- Estructuras de datos\n",
        "- Listas\n",
        "- Tuplas\n",
        "- Diccionarios de datos\n",
        "- Ciclos\n",
        "- Asignaciones\n",
        "- Ejercicios"
      ],
      "metadata": {
        "id": "NlD9wTcHK998"
      }
    },
    {
      "cell_type": "markdown",
      "source": [],
      "metadata": {
        "id": "JiZhwTQZu2OD"
      }
    },
    {
      "cell_type": "markdown",
      "source": [
        "## **LISTAS**\n",
        "Las listas en Python son una de las estructuras de datos más utilizadas debido a su flexibilidad y capacidad para almacenar diferentes tipos de datos. Aquí te explico en detalle cómo funcionan las listas y cómo puedes utilizarlas.\n",
        "\n",
        "**¿Qué es una lista en Python?**\n",
        "\n",
        "Una lista en Python es una estructura de datos ordenada y mutable que puede contener una colección de elementos, como números, cadenas de texto, objetos, etc. Los elementos en una lista se mantienen en un orden específico, lo que significa que cada elemento tiene una posición o índice.\n",
        "\n",
        "\n",
        "**Características clave de las listas:**\n",
        "\n",
        "\n",
        "**Ordenadas:** Las listas mantienen el orden de inserción de los elementos. Si agregas elementos en un orden específico, se mantendrán en ese orden.\n",
        "\n",
        "\n",
        "**Mutables:** Puedes cambiar, agregar o eliminar elementos de una lista después de que ha sido creada. Esta capacidad de modificar las listas las hace muy flexibles.\n",
        "\n",
        "\n",
        "**Permiten duplicados:** Las listas pueden contener elementos duplicados. Es decir, puedes tener múltiples instancias del mismo valor en la lista.\n",
        "\n",
        "\n",
        "**Heterogéneas:** Una lista puede contener elementos de diferentes tipos de datos, como enteros, cadenas de texto, y otros objetos."
      ],
      "metadata": {
        "id": "oTbqnfPiJ9bO"
      }
    },
    {
      "cell_type": "code",
      "source": [
        "# Crear una lista vacía\n",
        "mi_lista = []\n",
        "\n",
        "# Crear una lista con algunos elementos\n",
        "mi_lista = [1, 2, 3, \"cuatro\", 5.0, True]"
      ],
      "metadata": {
        "id": "xDEz4JHcH3fp"
      },
      "execution_count": null,
      "outputs": []
    },
    {
      "cell_type": "markdown",
      "source": [
        "Acceder a elementos en una lista"
      ],
      "metadata": {
        "id": "M23akpgSKd8j"
      }
    },
    {
      "cell_type": "code",
      "source": [
        "mi_lista = [10, 20, 30, 40, 50]\n",
        "\n",
        "# Acceder al primer elemento\n",
        "print(mi_lista[0])  # Output: 10\n",
        "\n",
        "# Acceder al tercer elemento\n",
        "print(mi_lista[2])  # Output: 30\n",
        "\n",
        "# Acceder al último elemento\n",
        "print(mi_lista[-1])  # Output: 50\n"
      ],
      "metadata": {
        "colab": {
          "base_uri": "https://localhost:8080/"
        },
        "id": "x9SRCroaKgjg",
        "outputId": "a8e5b253-2744-484f-fc96-65465d9a2fe2"
      },
      "execution_count": null,
      "outputs": [
        {
          "output_type": "stream",
          "name": "stdout",
          "text": [
            "10\n",
            "30\n",
            "50\n"
          ]
        }
      ]
    },
    {
      "cell_type": "markdown",
      "source": [
        "Modificar una lista"
      ],
      "metadata": {
        "id": "YCA604fMCV65"
      }
    },
    {
      "cell_type": "code",
      "source": [
        "mi_lista = [10, 20, 30, 40, 50]\n",
        "\n",
        "# Cambiar el segundo elemento\n",
        "mi_lista[1] = 25\n",
        "\n",
        "print(mi_lista)  # Output: [10, 25, 30, 40, 50]\n"
      ],
      "metadata": {
        "id": "auJVUdCVRrSq",
        "colab": {
          "base_uri": "https://localhost:8080/"
        },
        "outputId": "3351abde-5c29-4bd1-a368-7d8798ce2681"
      },
      "execution_count": null,
      "outputs": [
        {
          "output_type": "stream",
          "name": "stdout",
          "text": [
            "[10, 25, 30, 40, 50]\n"
          ]
        }
      ]
    },
    {
      "cell_type": "markdown",
      "source": [
        "Agregar elementos a la lista*"
      ],
      "metadata": {
        "id": "fKbERNEtCU9G"
      }
    },
    {
      "cell_type": "code",
      "source": [
        "mi_lista = [1, 2, 3]\n",
        "\n",
        "# Agregar un elemento al final de la lista\n",
        "mi_lista.append(4)\n",
        "print(mi_lista)  # Output: [1, 2, 3, 4]\n",
        "\n",
        "# Insertar un elemento en una posición específica\n",
        "mi_lista.insert(1, 1.5)\n",
        "print(mi_lista)  # Output: [1, 1.5, 2, 3, 4]\n",
        "\n",
        "# Agregar varios elementos al final de la lista\n",
        "mi_lista.extend([5, 6])\n",
        "print(mi_lista)  # Output: [1, 1.5, 2, 3, 4, 5, 6]\n"
      ],
      "metadata": {
        "colab": {
          "base_uri": "https://localhost:8080/"
        },
        "id": "FDJre-tiSEsd",
        "outputId": "6868e1ca-7ec6-4284-f422-b5fac05d80cb"
      },
      "execution_count": null,
      "outputs": [
        {
          "output_type": "stream",
          "name": "stdout",
          "text": [
            "[1, 2, 3, 4]\n",
            "[1, 1.5, 2, 3, 4]\n",
            "[1, 1.5, 2, 3, 4, 5, 6]\n"
          ]
        }
      ]
    },
    {
      "cell_type": "markdown",
      "source": [
        "Eliminar elementos de las listas"
      ],
      "metadata": {
        "id": "7ubAIPo6CuTN"
      }
    },
    {
      "cell_type": "code",
      "source": [
        "mi_lista = [10, 20, 30, 40, 50]\n",
        "\n",
        "# Eliminar un elemento específico\n",
        "mi_lista.remove(30)\n",
        "print(mi_lista)  # Output: [10, 20, 40, 50]\n",
        "\n",
        "# Eliminar el último elemento\n",
        "mi_lista.pop()\n",
        "print(mi_lista)  # Output: [10, 20, 40]\n",
        "\n",
        "# Eliminar un elemento en una posición específica\n",
        "del mi_lista[1]\n",
        "print(mi_lista)  # Output: [10, 40]"
      ],
      "metadata": {
        "colab": {
          "base_uri": "https://localhost:8080/"
        },
        "id": "zvtRW1-jSpFt",
        "outputId": "ccf2b4b8-7290-4d81-a0a9-2323cc25e785"
      },
      "execution_count": null,
      "outputs": [
        {
          "output_type": "stream",
          "name": "stdout",
          "text": [
            "[10, 20, 40, 50]\n",
            "[10, 20, 40]\n",
            "[10, 40]\n"
          ]
        }
      ]
    },
    {
      "cell_type": "markdown",
      "source": [
        "Slicing (Rebanado) de listas\n",
        "El slicing te permite obtener una sublista de la lista original utilizando la notación [inicio:fin]."
      ],
      "metadata": {
        "id": "Wqa1M_A1DDXh"
      }
    },
    {
      "cell_type": "code",
      "source": [
        "mi_lista = [10, 20, 30, 40, 50]\n",
        "\n",
        "# Obtener los primeros tres elementos\n",
        "print(mi_lista[0:3])  # Output: [10, 20, 30]\n",
        "\n",
        "# Obtener los últimos dos elementos\n",
        "print(mi_lista[-2:])  # Output: [40, 50]\n",
        "\n",
        "# Obtener una copia completa de la lista\n",
        "print(mi_lista[:])  # Output: [10, 20, 30, 40, 50]\n"
      ],
      "metadata": {
        "colab": {
          "base_uri": "https://localhost:8080/"
        },
        "id": "x5A1kRagDKg1",
        "outputId": "01bc3307-a51b-4102-a106-9873195dd986"
      },
      "execution_count": null,
      "outputs": [
        {
          "output_type": "stream",
          "name": "stdout",
          "text": [
            "[10, 20, 30]\n",
            "[40, 50]\n",
            "[10, 20, 30, 40, 50]\n"
          ]
        }
      ]
    },
    {
      "cell_type": "code",
      "source": [
        "\"\"\"\n",
        "Ejercicio 1: Crear y Modificar una Lista\n",
        "\n",
        "Crea una lista llamada numeros que contenga los números del 1 al 10.\n",
        "\n",
        "Modifica el tercer elemento de la lista para que sea el número 100.\n",
        "\n",
        "Añade el número 11 al final de la lista.\n",
        "\n",
        "Inserta el número 50 en la posición 5.\n",
        "\n",
        "Elimina el primer elemento de la lista.\n",
        "\n",
        "Imprime la lista final.\n",
        "\n",
        "\n",
        "Ejercicio 2: Slicing de Listas\n",
        "\n",
        "Crea una lista llamada letras que contenga las primeras 10 letras del alfabeto (de la 'a' a la 'j').\n",
        "\n",
        "Usa slicing para obtener las primeras 3 letras y guárdalas en una nueva lista llamada primeras_tres.\n",
        "\n",
        "Usa slicing para obtener las últimas 4 letras y guárdalas en una nueva lista llamada ultimas_cuatro.\n",
        "\n",
        "Usa slicing para invertir el orden de la lista letras y guárdala en una lista llamada letras_invertidas.\n",
        "\n",
        "Imprime las listas primeras_tres, ultimas_cuatro y letras_invertidas.\"\"\""
      ],
      "metadata": {
        "id": "yw-umU7-DjHG"
      },
      "execution_count": null,
      "outputs": []
    },
    {
      "cell_type": "markdown",
      "source": [
        "# **TUPLAS**\n",
        "Las tuplas en Python son una estructura de datos que permite almacenar una secuencia de elementos, similar a las listas, pero con una diferencia clave: las tuplas son inmutables. Esto significa que, una vez que una tupla se ha creado, no se pueden modificar sus elementos.\n",
        "\n",
        "**Características principales de las tuplas:**\n",
        "\n",
        "**Inmutabilidad:**No puedes cambiar, agregar o eliminar elementos de una tupla una vez que se ha creado. Esto las hace útiles para almacenar datos que no deben cambiar a lo largo del programa.\n",
        "\n",
        "**Ordenadas:** Al igual que las listas, las tuplas mantienen el orden de los elementos, lo que significa que cada elemento tiene un índice específico.\n",
        "\n",
        "**Heterogéneas:** Una tupla puede contener elementos de diferentes tipos de datos, como números, cadenas de texto, listas, etc.\n",
        "\n",
        "**Permiten duplicados:** Las tuplas pueden contener elementos duplicados."
      ],
      "metadata": {
        "id": "BlAXmUybK1jr"
      }
    },
    {
      "cell_type": "code",
      "source": [
        "# Crear una tupla con paréntesis\n",
        "mi_tupla = (1, 2, 3, \"cuatro\", 5.0)\n",
        "\n",
        "# Crear una tupla sin paréntesis\n",
        "mi_tupla = 1, 2, 3, \"cuatro\", 5.0\n",
        "\n",
        "# Crear una tupla vacía\n",
        "tupla_vacia = ()\n",
        "\n",
        "# Crear una tupla de un solo elemento (se necesita la coma)\n",
        "una_tupla = (1,)"
      ],
      "metadata": {
        "id": "7ry7LG6vOCTN",
        "colab": {
          "base_uri": "https://localhost:8080/"
        },
        "outputId": "ea9e73d1-e4e8-4eac-d7d6-c7cbd1956d1b"
      },
      "execution_count": null,
      "outputs": [
        {
          "output_type": "stream",
          "name": "stdout",
          "text": [
            "Hola, Juan!\n"
          ]
        }
      ]
    },
    {
      "cell_type": "markdown",
      "source": [
        "Acceder elementos de la TUPLA"
      ],
      "metadata": {
        "id": "ViZV4IrcW11Y"
      }
    },
    {
      "cell_type": "code",
      "source": [
        "mi_tupla = (10, 20, 30, 40, 50)\n",
        "\n",
        "# Acceder al primer elemento\n",
        "print(mi_tupla[0])  # Output: 10\n",
        "\n",
        "# Acceder al tercer elemento\n",
        "print(mi_tupla[2])  # Output: 30\n",
        "\n",
        "# Acceder al último elemento\n",
        "print(mi_tupla[-1])  # Output: 50"
      ],
      "metadata": {
        "colab": {
          "base_uri": "https://localhost:8080/"
        },
        "id": "6Ztxr_9SWw7B",
        "outputId": "50d5dcd5-b25b-49b4-e139-a134c13e1c6f"
      },
      "execution_count": null,
      "outputs": [
        {
          "output_type": "stream",
          "name": "stdout",
          "text": [
            "10\n",
            "30\n",
            "50\n"
          ]
        }
      ]
    },
    {
      "cell_type": "code",
      "source": [
        "mi_tupla = (10, 20, 30)\n",
        "\n",
        "a, b, c = mi_tupla\n",
        "\n",
        "print(a)  # Output: 10\n",
        "print(b)  # Output: 20\n",
        "print(c)  # Output: 30\n"
      ],
      "metadata": {
        "id": "3Nt0aEB3GUkT"
      },
      "execution_count": null,
      "outputs": []
    },
    {
      "cell_type": "markdown",
      "source": [
        "# **DICCIONARIOS DE DATOS**\n",
        "\n",
        "En Python, los diccionarios son una estructura de datos muy versátil y útil. Son colecciones no ordenadas de pares clave-valor, donde cada clave es única y se asocia a un valor. Aquí te explico los aspectos básicos y algunas características avanzadas:"
      ],
      "metadata": {
        "id": "0GZobliHKrYO"
      }
    },
    {
      "cell_type": "code",
      "source": [
        "mi_diccionario = {\n",
        "    'nombre': 'Ana',\n",
        "    'edad': 30,\n",
        "    'ciudad': 'Madrid'\n",
        "}\n"
      ],
      "metadata": {
        "id": "5_GSQ-guK57_"
      },
      "execution_count": null,
      "outputs": []
    },
    {
      "cell_type": "markdown",
      "source": [
        "Agregar elemento a la lista:"
      ],
      "metadata": {
        "id": "ATnL0VuqSvTu"
      }
    },
    {
      "cell_type": "code",
      "source": [
        "# Diccionario para el inventario\n",
        "inventario = {}\n",
        "\n",
        "# Agregar un nuevo producto al inventario\n",
        "inventario[\"manzanas\"] = 50\n",
        "inventario[\"naranjas\"] = 30\n",
        "\n",
        "print(inventario)\n"
      ],
      "metadata": {
        "id": "RGT3adNKSy5Q"
      },
      "execution_count": null,
      "outputs": []
    },
    {
      "cell_type": "markdown",
      "source": [
        "Acceso a los elementos"
      ],
      "metadata": {
        "id": "BInxffi5LZkl"
      }
    },
    {
      "cell_type": "code",
      "source": [
        "print(mi_diccionario['nombre'])  # Output: Ana"
      ],
      "metadata": {
        "colab": {
          "base_uri": "https://localhost:8080/"
        },
        "id": "OSwH0SWVK7f-",
        "outputId": "70ac3149-2f9d-4681-c1ea-889172940d9e"
      },
      "execution_count": null,
      "outputs": [
        {
          "output_type": "stream",
          "name": "stdout",
          "text": [
            "Ana\n"
          ]
        }
      ]
    },
    {
      "cell_type": "markdown",
      "source": [
        "Modificacion de los elementos"
      ],
      "metadata": {
        "id": "SIWOQpzoLkYC"
      }
    },
    {
      "cell_type": "code",
      "source": [
        "mi_diccionario['edad'] = 31"
      ],
      "metadata": {
        "id": "_qFjIprkLb8D"
      },
      "execution_count": null,
      "outputs": []
    },
    {
      "cell_type": "markdown",
      "source": [
        "Elminacion de los elementos"
      ],
      "metadata": {
        "id": "UNd8V8TeMm0A"
      }
    },
    {
      "cell_type": "code",
      "source": [
        "del mi_diccionario['ciudad']"
      ],
      "metadata": {
        "id": "j7HTBkqFMtxV"
      },
      "execution_count": null,
      "outputs": []
    },
    {
      "cell_type": "markdown",
      "source": [
        "## **OPERADORES COMPUESTOS**\n"
      ],
      "metadata": {
        "id": "eGDGYle8neTT"
      }
    },
    {
      "cell_type": "code",
      "source": [
        "# 1. Operador de Asignación Básico:\n",
        "x = 5  # Asigna el valor 5 a la variable x\n",
        "\n",
        "# 2. += (Suma y Asigna):\n",
        "x += 3  # Equivale a x = x + 3\n",
        "\n",
        "# 3. -= (Resta y Asigna):\n",
        "x -= 2  # Equivale a x = x - 2\n",
        "\n",
        "# 4. *= (Multiplica y Asigna):\n",
        "x *= 3  # Equivale a x = x * 3\n",
        "\n",
        "# 5. /= (Divide y Asigna):\n",
        "x /= 2  # Equivale a x = x / 2\n",
        "\n",
        "# 6. %= (Módulo y Asigna):\n",
        "x %= 3  # Equivale a x = x % 3\n",
        "\n",
        "# 7. **= (Potencia y Asigna):\n",
        "x **= 3  # Equivale a x = x ** 3\n",
        "\n",
        "# 8. //= (División Entera y Asigna):\n",
        "x //= 3  # Equivale a x = x // 3\n",
        "\n",
        "# 9. &= (AND bit a bit y Asigna):\n",
        "x &= 3  # Equivale a x = x & 3\n",
        "\n",
        "# 10. |= (OR bit a bit y Asigna):\n",
        "x |= 2  # Equivale a x = x | 2\n",
        "\n",
        "# 11. ^= (XOR bit a bit y Asigna):\n",
        "x ^= 3  # Equivale a x = x ^ 3\n",
        "\n",
        "# 12. <<= (Desplazamiento a la izquierda y Asigna):\n",
        "x <<= 1  # Equivale a x = x << 1\n",
        "\n",
        "# 13. >>= (Desplazamiento a la derecha y Asigna):\n",
        "x >>= 1  # Equivale a x = x >> 1\n"
      ],
      "metadata": {
        "id": "B5LuQ9gpoaly"
      },
      "execution_count": null,
      "outputs": []
    },
    {
      "cell_type": "markdown",
      "source": [
        "## **CICLOS**"
      ],
      "metadata": {
        "id": "ZU_UlNVPGQao"
      }
    },
    {
      "cell_type": "markdown",
      "source": [
        "1. Bucle for\n",
        "El bucle for se utiliza para iterar sobre una secuencia (como una lista, tupla, diccionario, conjunto o cadena de caracteres). Se ejecuta una vez por cada elemento en la secuencia."
      ],
      "metadata": {
        "id": "Jowb9KGkGwqf"
      }
    },
    {
      "cell_type": "code",
      "source": [
        "secuencia = [1, 2, 3, 4, 5]\n",
        "for variable in secuencia:\n",
        "    # Código a ejecutar"
      ],
      "metadata": {
        "id": "VKTWPdHGGxH1"
      },
      "execution_count": null,
      "outputs": []
    },
    {
      "cell_type": "code",
      "source": [
        "# Iterar sobre una lista de números\n",
        "numeros = [1, 2, 3, 4, 5]\n",
        "for num in numeros:\n",
        "    print(num)"
      ],
      "metadata": {
        "id": "2F53t3_KG9ro",
        "colab": {
          "base_uri": "https://localhost:8080/"
        },
        "outputId": "80f8509f-b931-4b34-cacc-1a6dbec04496"
      },
      "execution_count": null,
      "outputs": [
        {
          "output_type": "stream",
          "name": "stdout",
          "text": [
            "1\n",
            "2\n",
            "3\n",
            "4\n",
            "5\n"
          ]
        }
      ]
    },
    {
      "cell_type": "markdown",
      "source": [
        "2. Bucle while\n",
        "El bucle while se utiliza para repetir un bloque de código mientras una condición sea verdadera."
      ],
      "metadata": {
        "id": "hyKqz6BiG2xC"
      }
    },
    {
      "cell_type": "code",
      "source": [
        "while #condicion:\n",
        "    # Código a ejecutar"
      ],
      "metadata": {
        "id": "WmD3if9OHFFR"
      },
      "execution_count": null,
      "outputs": []
    },
    {
      "cell_type": "code",
      "source": [
        "# Contador simple\n",
        "contador = 0\n",
        "while contador < 5:\n",
        "    print(contador)\n",
        "    contador += 1"
      ],
      "metadata": {
        "id": "H3sfE7KoHNPW"
      },
      "execution_count": null,
      "outputs": []
    },
    {
      "cell_type": "markdown",
      "source": [
        "3. Declaraciones adicionales en bucles\n",
        "\n",
        "\n",
        "break: Sale del bucle antes de que se evalúe la condición o se termine de iterar sobre la secuencia.\n",
        "\n",
        "continue: Salta el resto del código dentro del bucle y vuelve a la condición o a la siguiente iteración.\n",
        "\n",
        "\n",
        "else: Se ejecuta una vez cuando el bucle termina, a menos que se haya interrumpido con break."
      ],
      "metadata": {
        "id": "99XlnyrCHckf"
      }
    },
    {
      "cell_type": "code",
      "source": [
        "for i in range(10):\n",
        "    if i == 5:\n",
        "        break\n",
        "    print(i)"
      ],
      "metadata": {
        "id": "UtJiEfEZHdH1",
        "colab": {
          "base_uri": "https://localhost:8080/"
        },
        "outputId": "8932311a-c640-40b2-9dd0-fa9a23418077"
      },
      "execution_count": null,
      "outputs": [
        {
          "output_type": "stream",
          "name": "stdout",
          "text": [
            "0\n",
            "1\n",
            "2\n",
            "3\n",
            "4\n"
          ]
        }
      ]
    },
    {
      "cell_type": "code",
      "source": [
        "for i in range(10):\n",
        "    if i % 2 == 0:\n",
        "        continue\n",
        "    print(i)"
      ],
      "metadata": {
        "id": "gNF_SqryHob3"
      },
      "execution_count": null,
      "outputs": []
    },
    {
      "cell_type": "markdown",
      "source": [
        "Supongamos que tienes una lista de precios de productos y quieres aplicar un descuento del 10% a cada precio.\n"
      ],
      "metadata": {
        "id": "bzlTyI4UIIXB"
      }
    },
    {
      "cell_type": "code",
      "source": [
        "precios = [100, 150, 200, 250, 300]\n",
        "precios_con_descuento = []\n",
        "\n",
        "for precio in precios:\n",
        "    nuevo_precio = precio * 0.9\n",
        "    precios_con_descuento.append(nuevo_precio)\n",
        "\n",
        "print(precios_con_descuento)"
      ],
      "metadata": {
        "id": "LDuwE6GdIMSV"
      },
      "execution_count": null,
      "outputs": []
    },
    {
      "cell_type": "markdown",
      "source": [
        "Supongamos que quieres solicitar a un usuario que ingrese una contraseña hasta que lo haga correctamente."
      ],
      "metadata": {
        "id": "Fq56a6R_ISFI"
      }
    },
    {
      "cell_type": "code",
      "source": [
        "contraseña_correcta = \"segura123\"\n",
        "intentos = 3\n",
        "\n",
        "while intentos > 0:\n",
        "    contraseña = input(\"Introduce tu contraseña: \")\n",
        "    if contraseña == contraseña_correcta:\n",
        "        print(\"¡Acceso concedido!\")\n",
        "        break\n",
        "    else:\n",
        "        intentos -= 1\n",
        "        print(f\"Contraseña incorrecta. Te quedan {intentos} intentos.\")\n",
        "\n",
        "if intentos == 0:\n",
        "    print(\"Has excedido el número de intentos. Acceso denegado.\")\n"
      ],
      "metadata": {
        "id": "EOaUoPm-IRfF"
      },
      "execution_count": null,
      "outputs": []
    },
    {
      "cell_type": "markdown",
      "source": [
        "Ejercicios"
      ],
      "metadata": {
        "id": "J52oCLCDcHse"
      }
    },
    {
      "cell_type": "markdown",
      "source": [
        "**Ejercicio 1:**\n",
        "\n",
        "Suma de Números Pares (Bucle for)\n",
        "\n",
        "**Descripción:**\n",
        "Escribe un programa que sume todos los números pares del 1 al 100 e imprima el resultado.\n",
        "\n",
        "**Instrucciones:**\n",
        "\n",
        "Utiliza un bucle for para recorrer los números del 1 al 100.\n",
        "Suma solo aquellos números que sean pares.\n",
        "Imprime la suma total."
      ],
      "metadata": {
        "id": "qHdLeYTwhnyN"
      }
    },
    {
      "cell_type": "code",
      "source": [
        "suma = 0\n",
        "for i in range(1,101):\n",
        "  if i % 2 == 0:\n",
        "    suma += i\n",
        "print(\"la suma de los numeros pares es\", suma)\n"
      ],
      "metadata": {
        "id": "n9wUzsn8cI5V",
        "colab": {
          "base_uri": "https://localhost:8080/"
        },
        "outputId": "bdcda5ff-0511-4926-a6cf-c140f7b63c44"
      },
      "execution_count": null,
      "outputs": [
        {
          "output_type": "stream",
          "name": "stdout",
          "text": [
            "la suma de los numeros pares es 2550\n"
          ]
        }
      ]
    },
    {
      "cell_type": "markdown",
      "source": [
        "**Ejercicio 2: Adivina el Número (Bucle while)**\n",
        "\n",
        "**Descripción:**\n",
        "\n",
        "Escribe un programa que permita al usuario adivinar un número secreto entre 1 y 10. El programa debe seguir pidiendo al usuario que adivine hasta que acierte.\n",
        "\n",
        "**Instrucciones:**\n",
        "\n",
        "Define un número secreto.\n",
        "\n",
        "Utiliza un bucle while para seguir solicitando adivinanzas al usuario hasta que acierte.\n",
        "\n",
        "Si el usuario adivina el número, imprime un mensaje de felicitación y termina el programa."
      ],
      "metadata": {
        "id": "tyDUUeCFkmvR"
      }
    },
    {
      "cell_type": "code",
      "source": [
        "num = 5\n",
        "adivinanza = None\n",
        "while adivinanza != num:\n",
        "      adivinanza = int(input(\"Ingrese numero \"))\n",
        "      if adivinanza == num:\n",
        "        print(\"Numero adivinado\")\n",
        "      break\n",
        "else:\n",
        "    print(\"Numero no adivinado\")\n",
        "\n"
      ],
      "metadata": {
        "id": "n6D1wHK2kmYs",
        "colab": {
          "base_uri": "https://localhost:8080/"
        },
        "outputId": "f05897dc-366f-4cb2-80a0-a440461c3090"
      },
      "execution_count": 4,
      "outputs": [
        {
          "name": "stdout",
          "output_type": "stream",
          "text": [
            "Ingrese numero 2\n"
          ]
        }
      ]
    },
    {
      "cell_type": "markdown",
      "source": [
        "**Ejercicio 3: Tabla de Multiplicar (Bucle for y while)**\n",
        "\n",
        "**Descripción:**\n",
        "\n",
        "Escribe un programa que genere la tabla de multiplicar de un número ingresado por el usuario. El programa debe continuar pidiendo un número hasta que el usuario ingrese 0.\n",
        "\n",
        "**Instrucciones:**\n",
        "\n",
        "Utiliza un bucle while para pedir un número al usuario.\n",
        "\n",
        "Si el número es diferente de 0, usa un bucle for para imprimir la tabla de multiplicar de ese número.\n",
        "\n",
        "Si el usuario ingresa 0, termina el programa."
      ],
      "metadata": {
        "id": "_BEFlYAUlaP9"
      }
    },
    {
      "cell_type": "code",
      "source": [],
      "metadata": {
        "id": "y3gPuI3blmyv"
      },
      "execution_count": null,
      "outputs": []
    },
    {
      "cell_type": "markdown",
      "source": [
        "**Ejercicio 4:**\n",
        "\n",
        "Contador de Vocales en una Frase (Bucle for)\n",
        "\n",
        "**Descripción:**\n",
        "\n",
        "Escribe un programa que cuente el número de vocales en una frase ingresada por el usuario.\n",
        "\n",
        "**Instrucciones:**\n",
        "\n",
        "Pide al usuario que ingrese una frase.\n",
        "\n",
        "Utiliza un bucle for para recorrer cada carácter de la frase.\n",
        "\n",
        "Cuenta cuántas veces aparecen las vocales (a, e, i, o, u) y muestra el\n",
        "\n",
        "resultado.\n"
      ],
      "metadata": {
        "id": "Yo3ma6uKlobt"
      }
    },
    {
      "cell_type": "code",
      "source": [
        "frase = input(\"Ingrese una frase: \")\n",
        "vocales = \"AEIOUaeiou\"\n",
        "contador = 0\n",
        "for letra in frase:\n",
        "    if letra in vocales:\n",
        "        contador += 1\n",
        "print(contador)"
      ],
      "metadata": {
        "id": "8_kakJr_mWwo",
        "colab": {
          "base_uri": "https://localhost:8080/"
        },
        "outputId": "13b1f183-a08e-4abc-c78f-58825c0fdeef"
      },
      "execution_count": null,
      "outputs": [
        {
          "output_type": "stream",
          "name": "stdout",
          "text": [
            "Ingrese una frase: Chismofilia\n",
            "5\n"
          ]
        }
      ]
    }
  ]
}